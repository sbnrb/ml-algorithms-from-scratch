{
 "cells": [
  {
   "cell_type": "code",
   "execution_count": 1,
   "metadata": {},
   "outputs": [],
   "source": [
    "import numpy as np\n",
    "import matplotlib.pyplot as plt\n",
    "%matplotlib inline"
   ]
  },
  {
   "cell_type": "code",
   "execution_count": 2,
   "metadata": {},
   "outputs": [],
   "source": [
    "import random\n",
    "n = 100\n",
    "n_features = 1\n",
    "\n",
    "X = np.arange(0, n, 1).reshape((n, 1))\n",
    "y = (X/n + np.random.normal(0, 0.1, X.shape)).round()"
   ]
  },
  {
   "cell_type": "code",
   "execution_count": 3,
   "metadata": {},
   "outputs": [
    {
     "data": {
      "text/plain": [
       "[<matplotlib.lines.Line2D at 0x13aca332d48>]"
      ]
     },
     "execution_count": 3,
     "metadata": {},
     "output_type": "execute_result"
    },
    {
     "data": {
      "image/png": "[encoded data removed]",
      "text/plain": [
       "<Figure size 504x288 with 1 Axes>"
      ]
     },
     "metadata": {
      "needs_background": "light"
     },
     "output_type": "display_data"
    }
   ],
   "source": [
    "plt.figure(figsize = (7,4))\n",
    "plt.plot(X, y, 'c.')"
   ]
  },
  {
   "cell_type": "code",
   "execution_count": 4,
   "metadata": {},
   "outputs": [],
   "source": [
    "def g(X, b, w):\n",
    "    z = (b + np.dot(w, X.T)).reshape(X.shape)\n",
    "    \n",
    "    return 1 / (1 + np.exp(-1 * z)).reshape(X.shape)"
   ]
  },
  {
   "cell_type": "code",
   "execution_count": 5,
   "metadata": {},
   "outputs": [
    {
     "data": {
      "text/plain": [
       "array([[0.5       ],\n",
       "       [0.50249998],\n",
       "       [0.50499983],\n",
       "       [0.50749944],\n",
       "       [0.50999867]])"
      ]
     },
     "execution_count": 5,
     "metadata": {},
     "output_type": "execute_result"
    }
   ],
   "source": [
    "g(X[0:5], 0, np.array([1/n]))"
   ]
  },
  {
   "cell_type": "code",
   "execution_count": 6,
   "metadata": {},
   "outputs": [
    {
     "data": {
      "text/plain": [
       "((100, 1), (100, 1), (100, 1))"
      ]
     },
     "execution_count": 6,
     "metadata": {},
     "output_type": "execute_result"
    }
   ],
   "source": [
    "X.shape, g(X, 0, np.array([1/n])).shape, y.shape"
   ]
  },
  {
   "cell_type": "code",
   "execution_count": 7,
   "metadata": {},
   "outputs": [
    {
     "data": {
      "text/plain": [
       "[<matplotlib.lines.Line2D at 0x13aca3da1c8>]"
      ]
     },
     "execution_count": 7,
     "metadata": {},
     "output_type": "execute_result"
    },
    {
     "data": {
      "image/png": "[encoded data removed]",
      "text/plain": [
       "<Figure size 504x288 with 1 Axes>"
      ]
     },
     "metadata": {
      "needs_background": "light"
     },
     "output_type": "display_data"
    }
   ],
   "source": [
    "plt.figure(figsize = (7,4))\n",
    "plt.plot(X, y, 'c.')\n",
    "plt.plot(X, g(X, -20, np.array([0.5])), 'b-', alpha=0.5)"
   ]
  },
  {
   "cell_type": "code",
   "execution_count": 8,
   "metadata": {},
   "outputs": [],
   "source": [
    "def gradient_descent(b = 0, w = np.zeros((n_features, 1)), alpha = 0.003, step_by_step = False):\n",
    "    \n",
    "    steps_w, steps_b = [], []\n",
    "    step = 0\n",
    "    \n",
    "    while(step < 10000):\n",
    "        a = g(X, b, w)\n",
    "        \n",
    "        db = np.sum(a-y) / n\n",
    "        dw = np.dot(X.T, (a-y)) / n\n",
    "        \n",
    "        b = float(b - alpha * db)\n",
    "        w = w - alpha * dw\n",
    "        \n",
    "        steps_w += [w]\n",
    "        steps_b += [b]\n",
    "        \n",
    "        if (step)%1000 == 0:\n",
    "            J = -np.sum(y * np.log(a) + (1 - y) * np.log(1-a)) / n\n",
    "            print('cost function at step', step, ': ', J)\n",
    "            #print(db, dw)\n",
    "            #print(b, w)\n",
    "            \n",
    "        step += 1\n",
    "    \n",
    "    if step_by_step:\n",
    "        return steps_b, steps_w\n",
    "    else:\n",
    "        return steps_b[-1], steps_w[-1]"
   ]
  },
  {
   "cell_type": "code",
   "execution_count": 9,
   "metadata": {},
   "outputs": [
    {
     "name": "stdout",
     "output_type": "stream",
     "text": [
      "cost function at step 0 :  0.6931471805599453\n",
      "cost function at step 1000 :  0.5290479837921914\n",
      "cost function at step 2000 :  0.4635366607230362\n",
      "cost function at step 3000 :  0.4161761878964754\n",
      "cost function at step 4000 :  0.38087871771165643\n",
      "cost function at step 5000 :  0.35377599421959177\n",
      "cost function at step 6000 :  0.3324020742255094\n",
      "cost function at step 7000 :  0.3151516312336707\n",
      "cost function at step 8000 :  0.30095099634422756\n",
      "cost function at step 9000 :  0.28906184172806365\n"
     ]
    }
   ],
   "source": [
    "b_pred, w_pred = gradient_descent(step_by_step = True)"
   ]
  },
  {
   "cell_type": "code",
   "execution_count": 10,
   "metadata": {},
   "outputs": [
    {
     "data": {
      "text/plain": [
       "(-3.005757944488981, array([[0.06435579]]))"
      ]
     },
     "execution_count": 10,
     "metadata": {},
     "output_type": "execute_result"
    }
   ],
   "source": [
    "b_pred[-1], w_pred[-1]"
   ]
  },
  {
   "cell_type": "code",
   "execution_count": 11,
   "metadata": {},
   "outputs": [
    {
     "data": {
      "text/plain": [
       "[<matplotlib.lines.Line2D at 0x13acd6bde88>]"
      ]
     },
     "execution_count": 11,
     "metadata": {},
     "output_type": "execute_result"
    },
    {
     "data": {
      "image/png": "[encoded data removed]",
      "text/plain": [
       "<Figure size 504x288 with 1 Axes>"
      ]
     },
     "metadata": {
      "needs_background": "light"
     },
     "output_type": "display_data"
    }
   ],
   "source": [
    "plt.figure(figsize = (7,4))\n",
    "plt.plot(X, y, 'c.')\n",
    "for i in range(5):\n",
    "    plt.plot(X, g(X, b_pred[int(len(b_pred)*i/5)], w_pred[int(len(w_pred)*i/5)]), 'b-', alpha=(1+i)/6)\n",
    "plt.plot(X, g(X, b_pred[-1], w_pred[-1]), 'b-')"
   ]
  },
  {
   "cell_type": "code",
   "execution_count": 12,
   "metadata": {},
   "outputs": [
    {
     "data": {
      "text/plain": [
       "(array([0.04716643]), array([0.96660763]))"
      ]
     },
     "execution_count": 12,
     "metadata": {},
     "output_type": "execute_result"
    }
   ],
   "source": [
    "g(X[0], b_pred[-1], w_pred[-1]), g(X[-1], b_pred[-1], w_pred[-1])"
   ]
  },
  {
   "cell_type": "code",
   "execution_count": 13,
   "metadata": {},
   "outputs": [],
   "source": [
    "def predict(x, b, w, pr = 0.5):\n",
    "    p = g(x, b, w)\n",
    "    \n",
    "    if p >= pr:\n",
    "        return 1\n",
    "    else:\n",
    "        return 0"
   ]
  },
  {
   "cell_type": "code",
   "execution_count": 14,
   "metadata": {},
   "outputs": [
    {
     "data": {
      "text/plain": [
       "(0, 1)"
      ]
     },
     "execution_count": 14,
     "metadata": {},
     "output_type": "execute_result"
    }
   ],
   "source": [
    "predict(X[0], b_pred[-1], w_pred[-1]), predict(X[-1], b_pred[-1], w_pred[-1])"
   ]
  },
  {
   "cell_type": "code",
   "execution_count": 15,
   "metadata": {},
   "outputs": [
    {
     "data": {
      "text/plain": [
       "[<matplotlib.lines.Line2D at 0x13acd72b908>]"
      ]
     },
     "execution_count": 15,
     "metadata": {},
     "output_type": "execute_result"
    },
    {
     "data": {
      "image/png": "[encoded data removed]",
      "text/plain": [
       "<Figure size 504x288 with 1 Axes>"
      ]
     },
     "metadata": {
      "needs_background": "light"
     },
     "output_type": "display_data"
    }
   ],
   "source": [
    "true_pred, false_pred = [], []\n",
    "for i in range(len(X)):\n",
    "    if predict(X[i], b_pred[-1], w_pred[-1]) == y[i]:\n",
    "        true_pred += [i]\n",
    "    else:\n",
    "        false_pred += [i]\n",
    "    \n",
    "\n",
    "plt.figure(figsize = (7,4))\n",
    "plt.plot(X, g(X, b_pred[-1], w_pred[-1]), 'y-')\n",
    "plt.plot(false_pred, y[false_pred], 'r.')\n",
    "plt.plot(true_pred, y[true_pred], 'g.')"
   ]
  },
  {
   "cell_type": "code",
   "execution_count": 16,
   "metadata": {},
   "outputs": [
    {
     "data": {
      "text/plain": [
       "8"
      ]
     },
     "execution_count": 16,
     "metadata": {},
     "output_type": "execute_result"
    }
   ],
   "source": [
    "len(false_pred)"
   ]
  },
  {
   "cell_type": "code",
   "execution_count": null,
   "metadata": {},
   "outputs": [],
   "source": []
  },
  {
   "cell_type": "code",
   "execution_count": null,
   "metadata": {},
   "outputs": [],
   "source": []
  },
  {
   "cell_type": "code",
   "execution_count": 17,
   "metadata": {},
   "outputs": [
    {
     "name": "stderr",
     "output_type": "stream",
     "text": [
      "C:\\ProgramData\\Anaconda3\\lib\\site-packages\\sklearn\\linear_model\\logistic.py:432: FutureWarning: Default solver will be changed to 'lbfgs' in 0.22. Specify a solver to silence this warning.\n",
      "  FutureWarning)\n",
      "C:\\ProgramData\\Anaconda3\\lib\\site-packages\\sklearn\\utils\\validation.py:724: DataConversionWarning: A column-vector y was passed when a 1d array was expected. Please change the shape of y to (n_samples, ), for example using ravel().\n",
      "  y = column_or_1d(y, warn=True)\n"
     ]
    },
    {
     "data": {
      "text/plain": [
       "(array([-3.83821013]), array([[0.07894095]]))"
      ]
     },
     "execution_count": 17,
     "metadata": {},
     "output_type": "execute_result"
    }
   ],
   "source": [
    "from sklearn.linear_model import LogisticRegression\n",
    "\n",
    "clf = LogisticRegression()\n",
    "clf.fit(X[:], y[:])\n",
    "\n",
    "clf.intercept_, clf.coef_"
   ]
  },
  {
   "cell_type": "code",
   "execution_count": 18,
   "metadata": {},
   "outputs": [
    {
     "data": {
      "text/plain": [
       "[<matplotlib.lines.Line2D at 0x13acfdc1e48>]"
      ]
     },
     "execution_count": 18,
     "metadata": {},
     "output_type": "execute_result"
    },
    {
     "data": {
      "image/png": "[encoded data removed]",
      "text/plain": [
       "<Figure size 504x288 with 1 Axes>"
      ]
     },
     "metadata": {
      "needs_background": "light"
     },
     "output_type": "display_data"
    }
   ],
   "source": [
    "plt.figure(figsize = (7,4))\n",
    "plt.plot(X, y, 'c.')\n",
    "plt.plot(X, g(X, clf.intercept_, clf.coef_), 'm-')"
   ]
  },
  {
   "cell_type": "code",
   "execution_count": 19,
   "metadata": {},
   "outputs": [
    {
     "data": {
      "text/plain": [
       "[<matplotlib.lines.Line2D at 0x13acfe2ff08>]"
      ]
     },
     "execution_count": 19,
     "metadata": {},
     "output_type": "execute_result"
    },
    {
     "data": {
      "image/png": "[encoded data removed]",
      "text/plain": [
       "<Figure size 504x288 with 1 Axes>"
      ]
     },
     "metadata": {
      "needs_background": "light"
     },
     "output_type": "display_data"
    }
   ],
   "source": [
    "true_pred, false_pred = [], []\n",
    "for i in range(len(X)):\n",
    "    if predict(X[i], clf.intercept_, clf.coef_) == y[i]:\n",
    "        true_pred += [i]\n",
    "    else:\n",
    "        false_pred += [i]\n",
    "    \n",
    "\n",
    "plt.figure(figsize = (7,4))\n",
    "plt.plot(X, g(X, clf.intercept_, clf.coef_), 'm-')\n",
    "plt.plot(false_pred, y[false_pred], 'r.')\n",
    "plt.plot(true_pred, y[true_pred], 'g.')"
   ]
  },
  {
   "cell_type": "code",
   "execution_count": 20,
   "metadata": {},
   "outputs": [
    {
     "data": {
      "text/plain": [
       "6"
      ]
     },
     "execution_count": 20,
     "metadata": {},
     "output_type": "execute_result"
    }
   ],
   "source": [
    "len(false_pred)"
   ]
  }
 ],
 "metadata": {
  "kernelspec": {
   "display_name": "Python 3",
   "language": "python",
   "name": "python3"
  },
  "language_info": {
   "codemirror_mode": {
    "name": "ipython",
    "version": 3
   },
   "file_extension": ".py",
   "mimetype": "text/x-python",
   "name": "python",
   "nbconvert_exporter": "python",
   "pygments_lexer": "ipython3",
   "version": "3.7.4"
  }
 },
 "nbformat": 4,
 "nbformat_minor": 2
}
