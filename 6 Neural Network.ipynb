{
 "cells": [
  {
   "cell_type": "code",
   "execution_count": 1,
   "metadata": {},
   "outputs": [],
   "source": [
    "import numpy as np\n",
    "import pandas as pd\n",
    "import matplotlib.pyplot as plt\n",
    "%matplotlib inline\n",
    "\n",
    "import random"
   ]
  },
  {
   "cell_type": "code",
   "execution_count": 2,
   "metadata": {},
   "outputs": [
    {
     "name": "stdout",
     "output_type": "stream",
     "text": [
      "titanic.zip: Skipping, found more recently modified local copy (use --force to force download)\n"
     ]
    }
   ],
   "source": [
    "!kaggle competitions download -c titanic"
   ]
  },
  {
   "cell_type": "code",
   "execution_count": 3,
   "metadata": {},
   "outputs": [],
   "source": [
    "import zipfile\n",
    "\n",
    "zp = zipfile.ZipFile('titanic.zip') \n",
    "df = pd.read_csv(zp.open('train.csv'))"
   ]
  },
  {
   "cell_type": "code",
   "execution_count": 4,
   "metadata": {},
   "outputs": [
    {
     "data": {
      "text/html": [
       "<div>\n",
       "<style scoped>\n",
       "    .dataframe tbody tr th:only-of-type {\n",
       "        vertical-align: middle;\n",
       "    }\n",
       "\n",
       "    .dataframe tbody tr th {\n",
       "        vertical-align: top;\n",
       "    }\n",
       "\n",
       "    .dataframe thead th {\n",
       "        text-align: right;\n",
       "    }\n",
       "</style>\n",
       "<table border=\"1\" class=\"dataframe\">\n",
       "  <thead>\n",
       "    <tr style=\"text-align: right;\">\n",
       "      <th></th>\n",
       "      <th>Survived</th>\n",
       "      <th>Pclass</th>\n",
       "      <th>Sex</th>\n",
       "      <th>Age</th>\n",
       "      <th>SibSp</th>\n",
       "      <th>Fare</th>\n",
       "      <th>Embarked</th>\n",
       "    </tr>\n",
       "  </thead>\n",
       "  <tbody>\n",
       "    <tr>\n",
       "      <td>0</td>\n",
       "      <td>0</td>\n",
       "      <td>3</td>\n",
       "      <td>male</td>\n",
       "      <td>22</td>\n",
       "      <td>1</td>\n",
       "      <td>7.2500</td>\n",
       "      <td>S</td>\n",
       "    </tr>\n",
       "    <tr>\n",
       "      <td>1</td>\n",
       "      <td>1</td>\n",
       "      <td>1</td>\n",
       "      <td>female</td>\n",
       "      <td>38</td>\n",
       "      <td>1</td>\n",
       "      <td>71.2833</td>\n",
       "      <td>C</td>\n",
       "    </tr>\n",
       "    <tr>\n",
       "      <td>2</td>\n",
       "      <td>1</td>\n",
       "      <td>3</td>\n",
       "      <td>female</td>\n",
       "      <td>26</td>\n",
       "      <td>0</td>\n",
       "      <td>7.9250</td>\n",
       "      <td>S</td>\n",
       "    </tr>\n",
       "    <tr>\n",
       "      <td>3</td>\n",
       "      <td>1</td>\n",
       "      <td>1</td>\n",
       "      <td>female</td>\n",
       "      <td>35</td>\n",
       "      <td>1</td>\n",
       "      <td>53.1000</td>\n",
       "      <td>S</td>\n",
       "    </tr>\n",
       "    <tr>\n",
       "      <td>4</td>\n",
       "      <td>0</td>\n",
       "      <td>3</td>\n",
       "      <td>male</td>\n",
       "      <td>35</td>\n",
       "      <td>0</td>\n",
       "      <td>8.0500</td>\n",
       "      <td>S</td>\n",
       "    </tr>\n",
       "  </tbody>\n",
       "</table>\n",
       "</div>"
      ],
      "text/plain": [
       "   Survived  Pclass     Sex  Age  SibSp     Fare Embarked\n",
       "0         0       3    male   22      1   7.2500        S\n",
       "1         1       1  female   38      1  71.2833        C\n",
       "2         1       3  female   26      0   7.9250        S\n",
       "3         1       1  female   35      1  53.1000        S\n",
       "4         0       3    male   35      0   8.0500        S"
      ]
     },
     "execution_count": 4,
     "metadata": {},
     "output_type": "execute_result"
    }
   ],
   "source": [
    "df = df.drop(['PassengerId', 'Name', 'Parch', 'Ticket', 'Cabin'], axis = 1)\n",
    "\n",
    "df.loc[df['SibSp'] >= 1, 'SibSp'] = 1\n",
    "df['Embarked'] = df['Embarked'].fillna('S')\n",
    "\n",
    "df = df.dropna(subset = ['Age'])\n",
    "df['Age'] = df['Age'].astype(int)\n",
    "\n",
    "df.head()"
   ]
  },
  {
   "cell_type": "code",
   "execution_count": 5,
   "metadata": {},
   "outputs": [
    {
     "data": {
      "text/html": [
       "<div>\n",
       "<style scoped>\n",
       "    .dataframe tbody tr th:only-of-type {\n",
       "        vertical-align: middle;\n",
       "    }\n",
       "\n",
       "    .dataframe tbody tr th {\n",
       "        vertical-align: top;\n",
       "    }\n",
       "\n",
       "    .dataframe thead th {\n",
       "        text-align: right;\n",
       "    }\n",
       "</style>\n",
       "<table border=\"1\" class=\"dataframe\">\n",
       "  <thead>\n",
       "    <tr style=\"text-align: right;\">\n",
       "      <th></th>\n",
       "      <th>Survived</th>\n",
       "      <th>Age</th>\n",
       "      <th>SibSp</th>\n",
       "      <th>Fare</th>\n",
       "      <th>Sex_female</th>\n",
       "      <th>Sex_male</th>\n",
       "      <th>Pclass_1</th>\n",
       "      <th>Pclass_2</th>\n",
       "      <th>Pclass_3</th>\n",
       "      <th>Embarked_C</th>\n",
       "      <th>Embarked_Q</th>\n",
       "      <th>Embarked_S</th>\n",
       "    </tr>\n",
       "  </thead>\n",
       "  <tbody>\n",
       "    <tr>\n",
       "      <td>0</td>\n",
       "      <td>0</td>\n",
       "      <td>22</td>\n",
       "      <td>1</td>\n",
       "      <td>7.2500</td>\n",
       "      <td>0</td>\n",
       "      <td>1</td>\n",
       "      <td>0</td>\n",
       "      <td>0</td>\n",
       "      <td>1</td>\n",
       "      <td>0</td>\n",
       "      <td>0</td>\n",
       "      <td>1</td>\n",
       "    </tr>\n",
       "    <tr>\n",
       "      <td>1</td>\n",
       "      <td>1</td>\n",
       "      <td>38</td>\n",
       "      <td>1</td>\n",
       "      <td>71.2833</td>\n",
       "      <td>1</td>\n",
       "      <td>0</td>\n",
       "      <td>1</td>\n",
       "      <td>0</td>\n",
       "      <td>0</td>\n",
       "      <td>1</td>\n",
       "      <td>0</td>\n",
       "      <td>0</td>\n",
       "    </tr>\n",
       "    <tr>\n",
       "      <td>2</td>\n",
       "      <td>1</td>\n",
       "      <td>26</td>\n",
       "      <td>0</td>\n",
       "      <td>7.9250</td>\n",
       "      <td>1</td>\n",
       "      <td>0</td>\n",
       "      <td>0</td>\n",
       "      <td>0</td>\n",
       "      <td>1</td>\n",
       "      <td>0</td>\n",
       "      <td>0</td>\n",
       "      <td>1</td>\n",
       "    </tr>\n",
       "    <tr>\n",
       "      <td>3</td>\n",
       "      <td>1</td>\n",
       "      <td>35</td>\n",
       "      <td>1</td>\n",
       "      <td>53.1000</td>\n",
       "      <td>1</td>\n",
       "      <td>0</td>\n",
       "      <td>1</td>\n",
       "      <td>0</td>\n",
       "      <td>0</td>\n",
       "      <td>0</td>\n",
       "      <td>0</td>\n",
       "      <td>1</td>\n",
       "    </tr>\n",
       "    <tr>\n",
       "      <td>4</td>\n",
       "      <td>0</td>\n",
       "      <td>35</td>\n",
       "      <td>0</td>\n",
       "      <td>8.0500</td>\n",
       "      <td>0</td>\n",
       "      <td>1</td>\n",
       "      <td>0</td>\n",
       "      <td>0</td>\n",
       "      <td>1</td>\n",
       "      <td>0</td>\n",
       "      <td>0</td>\n",
       "      <td>1</td>\n",
       "    </tr>\n",
       "  </tbody>\n",
       "</table>\n",
       "</div>"
      ],
      "text/plain": [
       "   Survived  Age  SibSp     Fare  Sex_female  Sex_male  Pclass_1  Pclass_2  \\\n",
       "0         0   22      1   7.2500           0         1         0         0   \n",
       "1         1   38      1  71.2833           1         0         1         0   \n",
       "2         1   26      0   7.9250           1         0         0         0   \n",
       "3         1   35      1  53.1000           1         0         1         0   \n",
       "4         0   35      0   8.0500           0         1         0         0   \n",
       "\n",
       "   Pclass_3  Embarked_C  Embarked_Q  Embarked_S  \n",
       "0         1           0           0           1  \n",
       "1         0           1           0           0  \n",
       "2         1           0           0           1  \n",
       "3         0           0           0           1  \n",
       "4         1           0           0           1  "
      ]
     },
     "execution_count": 5,
     "metadata": {},
     "output_type": "execute_result"
    }
   ],
   "source": [
    "df = pd.concat([df, pd.get_dummies(df['Sex'], prefix='Sex')],axis=1)\n",
    "df = pd.concat([df, pd.get_dummies(df['Pclass'], prefix='Pclass')],axis=1)\n",
    "df = pd.concat([df, pd.get_dummies(df['Embarked'], prefix='Embarked')],axis=1)\n",
    "  \n",
    "df = df.drop(['Sex', 'Pclass', 'Embarked'], axis = 1)\n",
    "df.head()"
   ]
  },
  {
   "cell_type": "code",
   "execution_count": 6,
   "metadata": {},
   "outputs": [
    {
     "data": {
      "text/plain": [
       "52     1\n",
       "595    0\n",
       "227    0\n",
       "293    0\n",
       "117    0\n",
       "      ..\n",
       "157    0\n",
       "625    0\n",
       "665    0\n",
       "817    0\n",
       "519    0\n",
       "Name: Survived, Length: 571, dtype: int64"
      ]
     },
     "execution_count": 6,
     "metadata": {},
     "output_type": "execute_result"
    }
   ],
   "source": [
    "from sklearn.model_selection import train_test_split\n",
    "\n",
    "X_train, X_test, y_train, y_test = train_test_split(df.drop(['Survived'], axis = 1), df['Survived'], test_size=0.2)\n",
    "y_train"
   ]
  },
  {
   "cell_type": "code",
   "execution_count": 7,
   "metadata": {},
   "outputs": [],
   "source": [
    "class NN:\n",
    "    def __init__(self, activation_func = 'relu', n_hidden_units = 100, learning_rate = 0.03):\n",
    "        self.learning_rate = learning_rate\n",
    "        self.n_hidden_units = n_hidden_units\n",
    "        \n",
    "        self.sigm = lambda x: 1 / (1 + np.exp(-x))\n",
    "        self.sigm_slope = lambda x: self.sigm(x) * (1 - self.sigm(x)) #don`t need it\n",
    "        \n",
    "        if activation_func == 'sigm':\n",
    "            self.activation_func = self.sigm\n",
    "            self.activation_func_slope = self.sigm_slope\n",
    "        elif activation_func == 'tanh':\n",
    "            self.activation_func = lambda x: np.tanh(x)\n",
    "            self.activation_func_slope = lambda x:  1 - np.tanh(x)**2\n",
    "        elif activation_func == 'relu':\n",
    "            self.activation_func = lambda x: np.maximum(x, 0)\n",
    "            self.activation_func_slope = lambda x: np.where(x <= 0, 0, 1)\n",
    "            \n",
    "    def fit(self, X_train, y_train):\n",
    "        self.X = X_train.to_numpy().T\n",
    "        self.y = y_train.to_numpy().reshape((1, -1))\n",
    "        \n",
    "        self.W1 = np.random.normal(0, 0.01, (self.n_hidden_units, self.X.shape[0]))\n",
    "        self.b1 = np.ones((self.n_hidden_units, 1))\n",
    "        self.W2 = np.random.normal(0, 0.01, (1, self.n_hidden_units))\n",
    "        self.b2 = np.ones((1, 1))\n",
    "        \n",
    "        for i in range(1001):\n",
    "            #Forward propagation\n",
    "            z1 = self.W1.dot(self.X) + self.b1\n",
    "            a1 = self.activation_func(z1)\n",
    "            z2 = self.W2.dot(a1) + self.b2\n",
    "            a2 = self.sigm(z2)\n",
    "            \n",
    "            #Backpropagation\n",
    "            m = self.y.shape[1]\n",
    "            dz2 = a2 - self.y\n",
    "            dW2 = dz2.dot(a1.T) / m\n",
    "            db2 = np.sum(dz2, axis = 1, keepdims = True) / m\n",
    "            \n",
    "            dz1 = np.dot(self.W2.T, dz2) * self.activation_func_slope(z1)\n",
    "            dW1 = dz1.dot(self.X.T) / m\n",
    "            db1 = np.sum(dz1, axis = 1, keepdims = True) / m\n",
    "            \n",
    "            self.W1 -= self.learning_rate * dW1\n",
    "            self.W2 -= self.learning_rate * dW2\n",
    "            self.b1 -= self.learning_rate * db1\n",
    "            self.b2 -= self.learning_rate * db2\n",
    "            \n",
    "            if (i)%100 == 0:\n",
    "                J = -np.sum(self.y * np.log(a2) + (1 - self.y) * np.log(1-a2)) / len(self.y)\n",
    "                print('cost function at step', i, ': ', J)\n",
    "            \n",
    "    def predict_proba(self, X_test):\n",
    "        return self.sigm(self.W2.dot(self.activation_func(self.W1.dot(X_test.T) + self.b1)) + self.b2)\n",
    "    \n",
    "    def predict(self, X_test):\n",
    "        y = self.predict_proba(X_test)\n",
    "        \n",
    "        y[y > 0.5] = 1\n",
    "        y[y <= 0.5] = 0\n",
    "           \n",
    "        return y.T"
   ]
  },
  {
   "cell_type": "code",
   "execution_count": 8,
   "metadata": {},
   "outputs": [
    {
     "name": "stdout",
     "output_type": "stream",
     "text": [
      "sigmoid [0.549834   0.62245933 0.47502081]\n",
      "sigmoid derivative [0.24751657 0.23500371 0.24937604]\n",
      "\n",
      "tanh [ 0.19737532  0.46211716 -0.09966799]\n",
      "tanh derivative [0.96104298 0.78644773 0.99006629]\n",
      "\n",
      "relu [0.2 0.5 0. ]\n",
      "relu derivative [1 1 0]\n"
     ]
    }
   ],
   "source": [
    "clf = NN(activation_func = 'tanh')\n",
    "print('sigmoid', clf.sigm(np.array([0.2, 0.5, -0.1])))\n",
    "print('sigmoid derivative', clf.sigm_slope(np.array([0.2, 0.5, -0.1])))\n",
    "\n",
    "print('\\ntanh', clf.activation_func(np.array([0.2, 0.5, -0.1])))\n",
    "print('tanh derivative', clf.activation_func_slope(np.array([0.2, 0.5, -0.1])))\n",
    "\n",
    "clf = NN()\n",
    "print('\\nrelu', clf.activation_func(np.array([0.2, 0.5, -0.1])))\n",
    "print('relu derivative', clf.activation_func_slope(np.array([0.2, 0.5, -0.1])))"
   ]
  },
  {
   "cell_type": "code",
   "execution_count": 9,
   "metadata": {},
   "outputs": [
    {
     "name": "stdout",
     "output_type": "stream",
     "text": [
      "cost function at step 0 :  518.9542403904859\n",
      "cost function at step 100 :  347.0797873917912\n",
      "cost function at step 200 :  342.13770011508063\n",
      "cost function at step 300 :  336.3550179578936\n",
      "cost function at step 400 :  334.00530578072295\n",
      "cost function at step 500 :  332.9345121238141\n",
      "cost function at step 600 :  326.70454047786393\n",
      "cost function at step 700 :  320.67940349275693\n",
      "cost function at step 800 :  316.84785939794824\n",
      "cost function at step 900 :  353.647014074562\n",
      "cost function at step 1000 :  302.0075597165543\n"
     ]
    },
    {
     "data": {
      "text/plain": [
       "0.8041958041958042"
      ]
     },
     "execution_count": 9,
     "metadata": {},
     "output_type": "execute_result"
    }
   ],
   "source": [
    "clf.fit(X_train, y_train)\n",
    "\n",
    "from sklearn.metrics import accuracy_score\n",
    "accuracy_score(y_test, clf.predict(X_test))"
   ]
  },
  {
   "cell_type": "code",
   "execution_count": 10,
   "metadata": {},
   "outputs": [
    {
     "name": "stdout",
     "output_type": "stream",
     "text": [
      "cost function at step 0 :  516.8758876426131\n",
      "cost function at step 100 :  350.2354059000677\n",
      "cost function at step 200 :  343.7835470525414\n",
      "cost function at step 300 :  339.8118815589106\n",
      "cost function at step 400 :  336.76612796264374\n",
      "cost function at step 500 :  333.1323505980099\n",
      "cost function at step 600 :  329.2952078902314\n",
      "cost function at step 700 :  324.758475583276\n",
      "cost function at step 800 :  321.5570592443346\n",
      "cost function at step 900 :  317.84960298962056\n",
      "cost function at step 1000 :  314.3191628823252\n"
     ]
    },
    {
     "data": {
      "text/plain": [
       "0.7552447552447552"
      ]
     },
     "execution_count": 10,
     "metadata": {},
     "output_type": "execute_result"
    }
   ],
   "source": [
    "clf = NN(activation_func = 'tanh')\n",
    "clf.fit(X_train, y_train)\n",
    "accuracy_score(y_test, clf.predict(X_test))"
   ]
  },
  {
   "cell_type": "code",
   "execution_count": 11,
   "metadata": {},
   "outputs": [
    {
     "name": "stdout",
     "output_type": "stream",
     "text": [
      "cost function at step 0 :  504.8204316307859\n",
      "cost function at step 100 :  354.3979121469538\n",
      "cost function at step 200 :  351.845890551782\n",
      "cost function at step 300 :  350.6556166120705\n",
      "cost function at step 400 :  349.41005015547785\n",
      "cost function at step 500 :  348.1563932166241\n",
      "cost function at step 600 :  346.95430125763806\n",
      "cost function at step 700 :  345.82363254266807\n",
      "cost function at step 800 :  344.7675616019955\n",
      "cost function at step 900 :  343.78280733992835\n",
      "cost function at step 1000 :  342.8458971352273\n"
     ]
    },
    {
     "data": {
      "text/plain": [
       "0.7482517482517482"
      ]
     },
     "execution_count": 11,
     "metadata": {},
     "output_type": "execute_result"
    }
   ],
   "source": [
    "clf = NN(activation_func = 'sigm')\n",
    "clf.fit(X_train, y_train)\n",
    "accuracy_score(y_test, clf.predict(X_test))"
   ]
  },
  {
   "cell_type": "code",
   "execution_count": null,
   "metadata": {},
   "outputs": [],
   "source": []
  },
  {
   "cell_type": "code",
   "execution_count": 12,
   "metadata": {},
   "outputs": [
    {
     "data": {
      "text/plain": [
       "0.7692307692307693"
      ]
     },
     "execution_count": 12,
     "metadata": {},
     "output_type": "execute_result"
    }
   ],
   "source": [
    "from sklearn.neural_network import MLPClassifier\n",
    "\n",
    "clf2 = MLPClassifier(solver = 'sgd')\n",
    "clf2.fit(X_train, y_train)\n",
    "\n",
    "accuracy_score(y_test, clf2.predict(X_test))"
   ]
  }
 ],
 "metadata": {
  "kernelspec": {
   "display_name": "Python 3",
   "language": "python",
   "name": "python3"
  },
  "language_info": {
   "codemirror_mode": {
    "name": "ipython",
    "version": 3
   },
   "file_extension": ".py",
   "mimetype": "text/x-python",
   "name": "python",
   "nbconvert_exporter": "python",
   "pygments_lexer": "ipython3",
   "version": "3.7.4"
  }
 },
 "nbformat": 4,
 "nbformat_minor": 2
}
