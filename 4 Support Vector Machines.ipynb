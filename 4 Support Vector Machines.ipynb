{
 "cells": [
  {
   "cell_type": "code",
   "execution_count": 1,
   "metadata": {},
   "outputs": [],
   "source": [
    "import numpy as np\n",
    "import pandas as pd\n",
    "import matplotlib.pyplot as plt\n",
    "%matplotlib inline\n",
    "\n",
    "import random"
   ]
  },
  {
   "cell_type": "code",
   "execution_count": 2,
   "metadata": {},
   "outputs": [],
   "source": [
    "n = 50\n",
    "\n",
    "x1 = np.random.normal(3, 1.25, n)\n",
    "y1 = np.random.normal(2, 1.25, n)\n",
    "\n",
    "x2 = np.random.normal(7, 1.25, n)\n",
    "y2 = np.random.normal(5, 1.25, n)"
   ]
  },
  {
   "cell_type": "code",
   "execution_count": 3,
   "metadata": {},
   "outputs": [
    {
     "data": {
      "text/plain": [
       "[<matplotlib.lines.Line2D at 0x1a30b0fd408>]"
      ]
     },
     "execution_count": 3,
     "metadata": {},
     "output_type": "execute_result"
    },
    {
     "data": {
      "image/png": "[encoded data removed]",
      "text/plain": [
       "<Figure size 720x432 with 1 Axes>"
      ]
     },
     "metadata": {
      "needs_background": "light"
     },
     "output_type": "display_data"
    }
   ],
   "source": [
    "plt.figure(figsize = (10,6))\n",
    "\n",
    "plt.plot(x1, y1, 'c_')\n",
    "plt.plot(x2, y2, 'm+')"
   ]
  },
  {
   "cell_type": "code",
   "execution_count": 4,
   "metadata": {},
   "outputs": [],
   "source": [
    "x = np.append(x1, [x2])\n",
    "y = np.append(y1, [y2])\n",
    "c = np.append(np.full(x1.shape, -1), [np.full(x2.shape, 1)])"
   ]
  },
  {
   "cell_type": "code",
   "execution_count": 5,
   "metadata": {},
   "outputs": [
    {
     "data": {
      "text/plain": [
       "(2.7346375956376026, 2.113653891305008, -1)"
      ]
     },
     "execution_count": 5,
     "metadata": {},
     "output_type": "execute_result"
    }
   ],
   "source": [
    "x[0], y[0], c[0]"
   ]
  },
  {
   "cell_type": "code",
   "execution_count": 6,
   "metadata": {},
   "outputs": [
    {
     "data": {
      "text/plain": [
       "x    2.734638\n",
       "y    2.113654\n",
       "c   -1.000000\n",
       "Name: 0, dtype: float64"
      ]
     },
     "execution_count": 6,
     "metadata": {},
     "output_type": "execute_result"
    }
   ],
   "source": [
    "df = pd.DataFrame(list(zip(x, y, c)), columns =['x', 'y', 'c']) \n",
    "df.iloc[0]"
   ]
  },
  {
   "cell_type": "code",
   "execution_count": 7,
   "metadata": {},
   "outputs": [
    {
     "data": {
      "text/plain": [
       "89    1\n",
       "64    1\n",
       "27   -1\n",
       "58    1\n",
       "76    1\n",
       "     ..\n",
       "79    1\n",
       "22   -1\n",
       "4    -1\n",
       "61    1\n",
       "44   -1\n",
       "Name: c, Length: 80, dtype: int64"
      ]
     },
     "execution_count": 7,
     "metadata": {},
     "output_type": "execute_result"
    }
   ],
   "source": [
    "from sklearn.model_selection import train_test_split\n",
    "\n",
    "X_train, X_test, y_train, y_test = train_test_split(df.drop(['c'], axis = 1), df['c'], test_size=0.2, stratify = df['c'])\n",
    "y_train"
   ]
  },
  {
   "cell_type": "code",
   "execution_count": 8,
   "metadata": {},
   "outputs": [
    {
     "data": {
      "text/plain": [
       "[<matplotlib.lines.Line2D at 0x1a30d6b8308>]"
      ]
     },
     "execution_count": 8,
     "metadata": {},
     "output_type": "execute_result"
    },
    {
     "data": {
      "image/png": "[encoded data removed]",
      "text/plain": [
       "<Figure size 720x432 with 1 Axes>"
      ]
     },
     "metadata": {
      "needs_background": "light"
     },
     "output_type": "display_data"
    }
   ],
   "source": [
    "plt.figure(figsize = (10,6))\n",
    "\n",
    "plt.plot(X_train.loc[y_train == -1, 'x'], X_train.loc[y_train == -1, 'y'], 'c_')\n",
    "plt.plot(X_train.loc[y_train == 1, 'x'], X_train.loc[y_train == 1, 'y'], 'm+')\n",
    "\n",
    "plt.plot(X_test['x'], X_test['y'], '.', color = 'gray')"
   ]
  },
  {
   "cell_type": "code",
   "execution_count": 9,
   "metadata": {},
   "outputs": [
    {
     "name": "stdout",
     "output_type": "stream",
     "text": [
      "Requirement already satisfied: cvxopt in c:\\programdata\\anaconda3\\lib\\site-packages (1.2.5.post1)\n"
     ]
    }
   ],
   "source": [
    "!pip install cvxopt"
   ]
  },
  {
   "cell_type": "code",
   "execution_count": 10,
   "metadata": {},
   "outputs": [],
   "source": [
    "from cvxopt import solvers, matrix\n",
    "solvers.options['show_progress'] = False\n",
    "\n",
    "class SVM:\n",
    "    def __init__(self, C = None):\n",
    "        self.C = C\n",
    "        self.kernel = lambda x1, x2: np.dot(x1, x2)\n",
    "        \n",
    "    def fit(self, X, y):\n",
    "        self.X = X\n",
    "        self.y = y\n",
    "        \n",
    "        n_samples = self.X.shape[0]\n",
    "        n_features = len(self.X.columns)\n",
    "        \n",
    "        K = np.zeros((n_samples, n_samples))\n",
    "        for i in range(n_samples):\n",
    "            for j in range(n_samples):\n",
    "                K[i,j] = self.kernel(self.X.iloc[i], self.X.iloc[j])\n",
    "                \n",
    "        P = matrix(np.outer(self.y, self.y) * K)\n",
    "        q = matrix(np.ones(n_samples) * -1)\n",
    "        \n",
    "        if not self.C:\n",
    "            G = matrix(np.identity(n_samples) * -1)\n",
    "            h = matrix(np.zeros(n_samples))\n",
    "        else:\n",
    "            G_max = np.identity(n_samples) * -1\n",
    "            G_min = np.identity(n_samples)\n",
    "            \n",
    "            G = matrix(np.vstack((G_max, G_min)))\n",
    "            \n",
    "            h_max = matrix(np.zeros(n_samples))\n",
    "            h_min = matrix(np.ones(n_samples) * self.C)\n",
    "            \n",
    "            h = matrix(np.vstack((h_max, h_min)))\n",
    "        \n",
    "        A = matrix(self.y.astype(float), (1, n_samples))\n",
    "        b = matrix(0.0)\n",
    "        \n",
    "        solution = solvers.qp(P, q, G, h, A, b)\n",
    "        \n",
    "        a = np.ravel(solution['x'])\n",
    "        \n",
    "        support_vec = a > 1e-5\n",
    "        ind = np.arange(len(a))[support_vec]\n",
    "        self.a = a[support_vec]\n",
    "        \n",
    "        self.support_vec = self.X[support_vec]\n",
    "        self.support_vec_y = self.y[support_vec]\n",
    "        \n",
    "        self.b = 0\n",
    "        for n in range(len(self.a)):\n",
    "            self.b += self.support_vec_y.iloc[n]\n",
    "            self.b -= np.sum(self.a * self.support_vec_y * K[ind[n], support_vec])\n",
    "        self.b /= len(self.a)\n",
    "        \n",
    "        self.w = np.zeros(n_features)\n",
    "        for n in range(len(self.a)):\n",
    "            self.w += self.a[n] * self.support_vec_y.iloc[n] * self.support_vec.iloc[n]\n",
    "\n",
    "    def predict(self, X):\n",
    "        return np.sign(np.dot(X, self.w) + self.b)"
   ]
  },
  {
   "cell_type": "code",
   "execution_count": 11,
   "metadata": {},
   "outputs": [],
   "source": [
    "clf = SVM()\n",
    "clf.fit(X_train, y_train)\n",
    "y_pred = clf.predict(X_test)"
   ]
  },
  {
   "cell_type": "code",
   "execution_count": 12,
   "metadata": {},
   "outputs": [
    {
     "data": {
      "text/plain": [
       "[<matplotlib.lines.Line2D at 0x1a315962648>]"
      ]
     },
     "execution_count": 12,
     "metadata": {},
     "output_type": "execute_result"
    },
    {
     "data": {
      "image/png": "[encoded data removed]",
      "text/plain": [
       "<Figure size 720x432 with 1 Axes>"
      ]
     },
     "metadata": {
      "needs_background": "light"
     },
     "output_type": "display_data"
    }
   ],
   "source": [
    "plt.figure(figsize = (10,6))\n",
    "\n",
    "plt.plot(X_train.loc[y_train == -1, 'x'], X_train.loc[y_train == -1, 'y'], 'c_')\n",
    "plt.plot(X_train.loc[y_train == 1, 'x'], X_train.loc[y_train == 1, 'y'], 'm+')\n",
    "\n",
    "plt.plot(X_test.loc[y_test == -1, 'x'][y_test == y_pred], X_test.loc[y_test == -1, 'y'][y_test == y_pred], 'g_')\n",
    "plt.plot(X_test.loc[y_pred == -1, 'x'][y_test != y_pred], X_test.loc[y_pred == -1, 'y'][y_test != y_pred], 'r_')\n",
    "plt.plot(X_test.loc[y_test == 1, 'x'][y_test == y_pred], X_test.loc[y_test == 1, 'y'][y_test == y_pred], 'g+')\n",
    "plt.plot(X_test.loc[y_pred == 1, 'x'][y_test != y_pred], X_test.loc[y_pred == 1, 'y'][y_test != y_pred], 'r+')\n",
    "\n",
    "x1, x2 = plt.axis('tight')[0], plt.axis('tight')[1]\n",
    "y1 = (-clf.w[0] * x1 - clf.b) / clf.w[1] \n",
    "y2 = (-clf.w[0] * x2 - clf.b) / clf.w[1]\n",
    "plt.plot([x1, x2], [y1, y2], \"k\")\n",
    "        \n",
    "y1 = (-clf.w[0] * x1 - clf.b + 1) / clf.w[1]\n",
    "y2 = (-clf.w[0] * x2 - clf.b + 1) / clf.w[1]\n",
    "plt.plot([x1, x2], [y1, y2], \"k\", alpha = 0.5)\n",
    "        \n",
    "y1 = (-clf.w[0] * x1 - clf.b - 1) / clf.w[1]\n",
    "y2 = (-clf.w[0] * x2 - clf.b - 1) / clf.w[1]\n",
    "plt.plot([x1, x2], [y1, y2], \"k\", alpha = 0.5)"
   ]
  },
  {
   "cell_type": "code",
   "execution_count": 13,
   "metadata": {},
   "outputs": [
    {
     "data": {
      "text/plain": [
       "[<matplotlib.lines.Line2D at 0x1a3159a5348>]"
      ]
     },
     "execution_count": 13,
     "metadata": {},
     "output_type": "execute_result"
    },
    {
     "data": {
      "image/png": "[encoded data removed]",
      "text/plain": [
       "<Figure size 720x432 with 1 Axes>"
      ]
     },
     "metadata": {
      "needs_background": "light"
     },
     "output_type": "display_data"
    }
   ],
   "source": [
    "clf = SVM(C = 0.5)\n",
    "clf.fit(X_train, y_train)\n",
    "y_pred = clf.predict(X_test)\n",
    "\n",
    "plt.figure(figsize = (10,6))\n",
    "\n",
    "plt.plot(X_train.loc[y_train == -1, 'x'], X_train.loc[y_train == -1, 'y'], 'c_')\n",
    "plt.plot(X_train.loc[y_train == 1, 'x'], X_train.loc[y_train == 1, 'y'], 'm+')\n",
    "\n",
    "plt.plot(X_test.loc[y_test == -1, 'x'][y_test == y_pred], X_test.loc[y_test == -1, 'y'][y_test == y_pred], 'g_')\n",
    "plt.plot(X_test.loc[y_pred == -1, 'x'][y_test != y_pred], X_test.loc[y_pred == -1, 'y'][y_test != y_pred], 'r_')\n",
    "plt.plot(X_test.loc[y_test == 1, 'x'][y_test == y_pred], X_test.loc[y_test == 1, 'y'][y_test == y_pred], 'g+')\n",
    "plt.plot(X_test.loc[y_pred == 1, 'x'][y_test != y_pred], X_test.loc[y_pred == 1, 'y'][y_test != y_pred], 'r+')\n",
    "\n",
    "x1, x2 = plt.axis('tight')[0], plt.axis('tight')[1]\n",
    "y1 = (-clf.w[0] * x1 - clf.b) / clf.w[1] \n",
    "y2 = (-clf.w[0] * x2 - clf.b) / clf.w[1]\n",
    "plt.plot([x1, x2], [y1, y2], \"k\")\n",
    "        \n",
    "y1 = (-clf.w[0] * x1 - clf.b + 1) / clf.w[1]\n",
    "y2 = (-clf.w[0] * x2 - clf.b + 1) / clf.w[1]\n",
    "plt.plot([x1, x2], [y1, y2], \"k\", alpha = 0.5)\n",
    "        \n",
    "y1 = (-clf.w[0] * x1 - clf.b - 1) / clf.w[1]\n",
    "y2 = (-clf.w[0] * x2 - clf.b - 1) / clf.w[1]\n",
    "plt.plot([x1, x2], [y1, y2], \"k\", alpha = 0.5)"
   ]
  },
  {
   "cell_type": "code",
   "execution_count": null,
   "metadata": {},
   "outputs": [],
   "source": []
  }
 ],
 "metadata": {
  "kernelspec": {
   "display_name": "Python 3",
   "language": "python",
   "name": "python3"
  },
  "language_info": {
   "codemirror_mode": {
    "name": "ipython",
    "version": 3
   },
   "file_extension": ".py",
   "mimetype": "text/x-python",
   "name": "python",
   "nbconvert_exporter": "python",
   "pygments_lexer": "ipython3",
   "version": "3.7.4"
  }
 },
 "nbformat": 4,
 "nbformat_minor": 2
}
