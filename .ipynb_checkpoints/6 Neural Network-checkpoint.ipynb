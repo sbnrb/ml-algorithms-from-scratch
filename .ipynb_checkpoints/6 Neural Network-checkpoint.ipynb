{
 "cells": [
  {
   "cell_type": "code",
   "execution_count": 96,
   "metadata": {},
   "outputs": [],
   "source": [
    "import numpy as np\n",
    "import pandas as pd\n",
    "import matplotlib.pyplot as plt\n",
    "%matplotlib inline\n",
    "\n",
    "import random"
   ]
  },
  {
   "cell_type": "code",
   "execution_count": 97,
   "metadata": {},
   "outputs": [
    {
     "name": "stdout",
     "output_type": "stream",
     "text": [
      "titanic.zip: Skipping, found more recently modified local copy (use --force to force download)\n"
     ]
    }
   ],
   "source": [
    "!kaggle competitions download -c titanic"
   ]
  },
  {
   "cell_type": "code",
   "execution_count": 98,
   "metadata": {},
   "outputs": [],
   "source": [
    "import zipfile\n",
    "\n",
    "zp = zipfile.ZipFile('titanic.zip') \n",
    "df = pd.read_csv(zp.open('train.csv'))"
   ]
  },
  {
   "cell_type": "code",
   "execution_count": 99,
   "metadata": {},
   "outputs": [
    {
     "data": {
      "text/html": [
       "<div>\n",
       "<style scoped>\n",
       "    .dataframe tbody tr th:only-of-type {\n",
       "        vertical-align: middle;\n",
       "    }\n",
       "\n",
       "    .dataframe tbody tr th {\n",
       "        vertical-align: top;\n",
       "    }\n",
       "\n",
       "    .dataframe thead th {\n",
       "        text-align: right;\n",
       "    }\n",
       "</style>\n",
       "<table border=\"1\" class=\"dataframe\">\n",
       "  <thead>\n",
       "    <tr style=\"text-align: right;\">\n",
       "      <th></th>\n",
       "      <th>Survived</th>\n",
       "      <th>Pclass</th>\n",
       "      <th>Sex</th>\n",
       "      <th>Age</th>\n",
       "      <th>SibSp</th>\n",
       "      <th>Fare</th>\n",
       "      <th>Embarked</th>\n",
       "    </tr>\n",
       "  </thead>\n",
       "  <tbody>\n",
       "    <tr>\n",
       "      <td>0</td>\n",
       "      <td>0</td>\n",
       "      <td>3</td>\n",
       "      <td>male</td>\n",
       "      <td>22</td>\n",
       "      <td>1</td>\n",
       "      <td>7.2500</td>\n",
       "      <td>S</td>\n",
       "    </tr>\n",
       "    <tr>\n",
       "      <td>1</td>\n",
       "      <td>1</td>\n",
       "      <td>1</td>\n",
       "      <td>female</td>\n",
       "      <td>38</td>\n",
       "      <td>1</td>\n",
       "      <td>71.2833</td>\n",
       "      <td>C</td>\n",
       "    </tr>\n",
       "    <tr>\n",
       "      <td>2</td>\n",
       "      <td>1</td>\n",
       "      <td>3</td>\n",
       "      <td>female</td>\n",
       "      <td>26</td>\n",
       "      <td>0</td>\n",
       "      <td>7.9250</td>\n",
       "      <td>S</td>\n",
       "    </tr>\n",
       "    <tr>\n",
       "      <td>3</td>\n",
       "      <td>1</td>\n",
       "      <td>1</td>\n",
       "      <td>female</td>\n",
       "      <td>35</td>\n",
       "      <td>1</td>\n",
       "      <td>53.1000</td>\n",
       "      <td>S</td>\n",
       "    </tr>\n",
       "    <tr>\n",
       "      <td>4</td>\n",
       "      <td>0</td>\n",
       "      <td>3</td>\n",
       "      <td>male</td>\n",
       "      <td>35</td>\n",
       "      <td>0</td>\n",
       "      <td>8.0500</td>\n",
       "      <td>S</td>\n",
       "    </tr>\n",
       "  </tbody>\n",
       "</table>\n",
       "</div>"
      ],
      "text/plain": [
       "   Survived  Pclass     Sex  Age  SibSp     Fare Embarked\n",
       "0         0       3    male   22      1   7.2500        S\n",
       "1         1       1  female   38      1  71.2833        C\n",
       "2         1       3  female   26      0   7.9250        S\n",
       "3         1       1  female   35      1  53.1000        S\n",
       "4         0       3    male   35      0   8.0500        S"
      ]
     },
     "execution_count": 99,
     "metadata": {},
     "output_type": "execute_result"
    }
   ],
   "source": [
    "df = df.drop(['PassengerId', 'Name', 'Parch', 'Ticket', 'Cabin'], axis = 1)\n",
    "\n",
    "df.loc[df['SibSp'] >= 1, 'SibSp'] = 1\n",
    "df['Embarked'] = df['Embarked'].fillna('S')\n",
    "\n",
    "df = df.dropna(subset = ['Age'])\n",
    "df['Age'] = df['Age'].astype(int)\n",
    "\n",
    "df.head()"
   ]
  },
  {
   "cell_type": "code",
   "execution_count": 100,
   "metadata": {},
   "outputs": [
    {
     "data": {
      "text/html": [
       "<div>\n",
       "<style scoped>\n",
       "    .dataframe tbody tr th:only-of-type {\n",
       "        vertical-align: middle;\n",
       "    }\n",
       "\n",
       "    .dataframe tbody tr th {\n",
       "        vertical-align: top;\n",
       "    }\n",
       "\n",
       "    .dataframe thead th {\n",
       "        text-align: right;\n",
       "    }\n",
       "</style>\n",
       "<table border=\"1\" class=\"dataframe\">\n",
       "  <thead>\n",
       "    <tr style=\"text-align: right;\">\n",
       "      <th></th>\n",
       "      <th>Survived</th>\n",
       "      <th>Age</th>\n",
       "      <th>SibSp</th>\n",
       "      <th>Fare</th>\n",
       "      <th>Sex_female</th>\n",
       "      <th>Sex_male</th>\n",
       "      <th>Pclass_1</th>\n",
       "      <th>Pclass_2</th>\n",
       "      <th>Pclass_3</th>\n",
       "      <th>Embarked_C</th>\n",
       "      <th>Embarked_Q</th>\n",
       "      <th>Embarked_S</th>\n",
       "    </tr>\n",
       "  </thead>\n",
       "  <tbody>\n",
       "    <tr>\n",
       "      <td>0</td>\n",
       "      <td>0</td>\n",
       "      <td>22</td>\n",
       "      <td>1</td>\n",
       "      <td>7.2500</td>\n",
       "      <td>0</td>\n",
       "      <td>1</td>\n",
       "      <td>0</td>\n",
       "      <td>0</td>\n",
       "      <td>1</td>\n",
       "      <td>0</td>\n",
       "      <td>0</td>\n",
       "      <td>1</td>\n",
       "    </tr>\n",
       "    <tr>\n",
       "      <td>1</td>\n",
       "      <td>1</td>\n",
       "      <td>38</td>\n",
       "      <td>1</td>\n",
       "      <td>71.2833</td>\n",
       "      <td>1</td>\n",
       "      <td>0</td>\n",
       "      <td>1</td>\n",
       "      <td>0</td>\n",
       "      <td>0</td>\n",
       "      <td>1</td>\n",
       "      <td>0</td>\n",
       "      <td>0</td>\n",
       "    </tr>\n",
       "    <tr>\n",
       "      <td>2</td>\n",
       "      <td>1</td>\n",
       "      <td>26</td>\n",
       "      <td>0</td>\n",
       "      <td>7.9250</td>\n",
       "      <td>1</td>\n",
       "      <td>0</td>\n",
       "      <td>0</td>\n",
       "      <td>0</td>\n",
       "      <td>1</td>\n",
       "      <td>0</td>\n",
       "      <td>0</td>\n",
       "      <td>1</td>\n",
       "    </tr>\n",
       "    <tr>\n",
       "      <td>3</td>\n",
       "      <td>1</td>\n",
       "      <td>35</td>\n",
       "      <td>1</td>\n",
       "      <td>53.1000</td>\n",
       "      <td>1</td>\n",
       "      <td>0</td>\n",
       "      <td>1</td>\n",
       "      <td>0</td>\n",
       "      <td>0</td>\n",
       "      <td>0</td>\n",
       "      <td>0</td>\n",
       "      <td>1</td>\n",
       "    </tr>\n",
       "    <tr>\n",
       "      <td>4</td>\n",
       "      <td>0</td>\n",
       "      <td>35</td>\n",
       "      <td>0</td>\n",
       "      <td>8.0500</td>\n",
       "      <td>0</td>\n",
       "      <td>1</td>\n",
       "      <td>0</td>\n",
       "      <td>0</td>\n",
       "      <td>1</td>\n",
       "      <td>0</td>\n",
       "      <td>0</td>\n",
       "      <td>1</td>\n",
       "    </tr>\n",
       "  </tbody>\n",
       "</table>\n",
       "</div>"
      ],
      "text/plain": [
       "   Survived  Age  SibSp     Fare  Sex_female  Sex_male  Pclass_1  Pclass_2  \\\n",
       "0         0   22      1   7.2500           0         1         0         0   \n",
       "1         1   38      1  71.2833           1         0         1         0   \n",
       "2         1   26      0   7.9250           1         0         0         0   \n",
       "3         1   35      1  53.1000           1         0         1         0   \n",
       "4         0   35      0   8.0500           0         1         0         0   \n",
       "\n",
       "   Pclass_3  Embarked_C  Embarked_Q  Embarked_S  \n",
       "0         1           0           0           1  \n",
       "1         0           1           0           0  \n",
       "2         1           0           0           1  \n",
       "3         0           0           0           1  \n",
       "4         1           0           0           1  "
      ]
     },
     "execution_count": 100,
     "metadata": {},
     "output_type": "execute_result"
    }
   ],
   "source": [
    "df = pd.concat([df, pd.get_dummies(df['Sex'], prefix='Sex')],axis=1)\n",
    "df = pd.concat([df, pd.get_dummies(df['Pclass'], prefix='Pclass')],axis=1)\n",
    "df = pd.concat([df, pd.get_dummies(df['Embarked'], prefix='Embarked')],axis=1)\n",
    "  \n",
    "df = df.drop(['Sex', 'Pclass', 'Embarked'], axis = 1)\n",
    "df.head()"
   ]
  },
  {
   "cell_type": "code",
   "execution_count": 101,
   "metadata": {},
   "outputs": [
    {
     "data": {
      "text/plain": [
       "60     0\n",
       "835    1\n",
       "660    1\n",
       "429    1\n",
       "319    1\n",
       "      ..\n",
       "90     0\n",
       "854    0\n",
       "614    0\n",
       "137    0\n",
       "505    0\n",
       "Name: Survived, Length: 571, dtype: int64"
      ]
     },
     "execution_count": 101,
     "metadata": {},
     "output_type": "execute_result"
    }
   ],
   "source": [
    "from sklearn.model_selection import train_test_split\n",
    "\n",
    "X_train, X_test, y_train, y_test = train_test_split(df.drop(['Survived'], axis = 1), df['Survived'], test_size=0.2)\n",
    "y_train"
   ]
  },
  {
   "cell_type": "code",
   "execution_count": 252,
   "metadata": {},
   "outputs": [],
   "source": [
    "class NN:\n",
    "    def __init__(self, n_hidden_units = 100, learning_rate = 0.001, activation_func = 'tanh'):\n",
    "        self.learning_rate = learning_rate\n",
    "        self.n_hidden_units = n_hidden_units\n",
    "        \n",
    "        if activation_func == 'tanh':\n",
    "            self.activation_func = lambda x: np.tanh(x)\n",
    "            self.activation_func_derivative = lambda x: 1 - np.tanh(x)**2\n",
    "        if activation_func == 'sigm':\n",
    "            self.activation_func = lambda x: 1 / (1 + np.exp(-x))\n",
    "            self.activation_func_derivative = lambda x: np.exp(-x) / (1 + np.exp(-x))**2\n",
    "            \n",
    "            \n",
    "    def fit(self, X_train, y_train):\n",
    "        self.X = X_train\n",
    "        self.y = y_train\n",
    "        \n",
    "        self.n_features = len(self.X.columns)\n",
    "        self.n_classes = len(self.y.unique())\n",
    "        \n",
    "        self.cost = lambda x: 1/len(self.y) * ((self.y * np.log(x)) + ((1 - self.y) * np.log(1 - x))).sum().sum()\n",
    "        \n",
    "        #z1 = x * W1 + b1\n",
    "        #a1 = act_func(z1)\n",
    "        #z2 = a1 * W2 + b2\n",
    "        #a2 = act_func(z2)\n",
    "        #y_pred = argmax(a2)\n",
    "        \n",
    "        self.W1 = np.random.normal(0, 0.01, (self.n_hidden_units, self.n_features))\n",
    "        self.W2 = np.random.normal(0, 0.01, (self.n_classes, self.n_hidden_units))\n",
    "        self.b1 = np.zeros((self.n_hidden_units, 1))\n",
    "        self.b2 = np.zeros((self.n_classes, 1))\n",
    "        \n",
    "        for i in range(10000):\n",
    "            \n",
    "            #Forward propagation\n",
    "            z1 = self.W1.dot(self.X.T) + self.b1\n",
    "            a1 = self.activation_func(z1)\n",
    "            z2 = self.W2.dot(a1) + self.b2\n",
    "            a2 = self.activation_func(z2)\n",
    "            \n",
    "            #Backpropagation\n",
    "            print(a2)\n",
    "            y = np.zeros(a2.shape)\n",
    "            print(y)\n",
    "            #y[self.y == 1, :] = 1\n",
    "            print(y)\n",
    "            dz2 = a2 #- self.y\n",
    "            dW2 = a1.dot(dz2.T)\n",
    "            db2 = dz2\n",
    "            dz1 = self.W2.dot(dz2.T) * self.activation_func_derivative(z1)\n",
    "            dW1 = dz1.dot(self.X)\n",
    "            db1 = dz1\n",
    "            \n",
    "            self.W1 -= self.learning_rate * dW1\n",
    "            print(self.W2.shape, dW2.shape)\n",
    "            self.W2 -= self.learning_rate * dW2\n",
    "            self.b1 -= self.learning_rate * db1\n",
    "            self.b2 -= self.learning_rate * db2\n",
    "            \n",
    "            if i % 1000 == 0:\n",
    "                print(\"Loss after iteration %i: %f\" %(i, self.W1, self.W2, self.b1, self.b2))\n",
    "            "
   ]
  },
  {
   "cell_type": "code",
   "execution_count": 253,
   "metadata": {},
   "outputs": [
    {
     "name": "stdout",
     "output_type": "stream",
     "text": [
      "tanh [0.19737532 0.46211716]\n",
      "tanh derivative [0.96104298 0.78644773]\n",
      "\n",
      "sigmoid [0.549834   0.62245933]\n",
      "sigmoid derivative [0.24751657 0.23500371]\n"
     ]
    }
   ],
   "source": [
    "clf = NN()\n",
    "print('tanh', clf.activation_func(np.array([0.2, 0.5])))\n",
    "print('tanh derivative', clf.activation_func_derivative(np.array([0.2, 0.5])))\n",
    "print()\n",
    "\n",
    "clf = NN(activation_func = 'sigm')\n",
    "print('sigmoid', clf.activation_func(np.array([0.2, 0.5])))\n",
    "print('sigmoid derivative', clf.activation_func_derivative(np.array([0.2, 0.5])))"
   ]
  },
  {
   "cell_type": "code",
   "execution_count": 254,
   "metadata": {},
   "outputs": [
    {
     "name": "stdout",
     "output_type": "stream",
     "text": [
      "[[0.50439514 0.50627322 0.50726938 ... 0.50468609 0.5055868  0.50688324]\n",
      " [0.51688581 0.51421522 0.5130524  ... 0.51636864 0.51504059 0.5151355 ]]\n",
      "[[0. 0. 0. ... 0. 0. 0.]\n",
      " [0. 0. 0. ... 0. 0. 0.]]\n",
      "[[0. 0. 0. ... 0. 0. 0.]\n",
      " [0. 0. 0. ... 0. 0. 0.]]\n"
     ]
    },
    {
     "ename": "ValueError",
     "evalue": "shapes (2,100) and (571,2) not aligned: 100 (dim 1) != 571 (dim 0)",
     "output_type": "error",
     "traceback": [
      "\u001b[1;31m---------------------------------------------------------------------------\u001b[0m",
      "\u001b[1;31mValueError\u001b[0m                                Traceback (most recent call last)",
      "\u001b[1;32m<ipython-input-254-4f66baab8f93>\u001b[0m in \u001b[0;36m<module>\u001b[1;34m\u001b[0m\n\u001b[1;32m----> 1\u001b[1;33m \u001b[0mclf\u001b[0m\u001b[1;33m.\u001b[0m\u001b[0mfit\u001b[0m\u001b[1;33m(\u001b[0m\u001b[0mX_train\u001b[0m\u001b[1;33m,\u001b[0m \u001b[0my_train\u001b[0m\u001b[1;33m)\u001b[0m\u001b[1;33m\u001b[0m\u001b[1;33m\u001b[0m\u001b[0m\n\u001b[0m",
      "\u001b[1;32m<ipython-input-252-72fa7945e28c>\u001b[0m in \u001b[0;36mfit\u001b[1;34m(self, X_train, y_train)\u001b[0m\n\u001b[0;32m     49\u001b[0m             \u001b[0mdW2\u001b[0m \u001b[1;33m=\u001b[0m \u001b[0ma1\u001b[0m\u001b[1;33m.\u001b[0m\u001b[0mdot\u001b[0m\u001b[1;33m(\u001b[0m\u001b[0mdz2\u001b[0m\u001b[1;33m.\u001b[0m\u001b[0mT\u001b[0m\u001b[1;33m)\u001b[0m\u001b[1;33m\u001b[0m\u001b[1;33m\u001b[0m\u001b[0m\n\u001b[0;32m     50\u001b[0m             \u001b[0mdb2\u001b[0m \u001b[1;33m=\u001b[0m \u001b[0mdz2\u001b[0m\u001b[1;33m\u001b[0m\u001b[1;33m\u001b[0m\u001b[0m\n\u001b[1;32m---> 51\u001b[1;33m             \u001b[0mdz1\u001b[0m \u001b[1;33m=\u001b[0m \u001b[0mself\u001b[0m\u001b[1;33m.\u001b[0m\u001b[0mW2\u001b[0m\u001b[1;33m.\u001b[0m\u001b[0mdot\u001b[0m\u001b[1;33m(\u001b[0m\u001b[0mdz2\u001b[0m\u001b[1;33m.\u001b[0m\u001b[0mT\u001b[0m\u001b[1;33m)\u001b[0m \u001b[1;33m*\u001b[0m \u001b[0mself\u001b[0m\u001b[1;33m.\u001b[0m\u001b[0mactivation_func_derivative\u001b[0m\u001b[1;33m(\u001b[0m\u001b[0mz1\u001b[0m\u001b[1;33m)\u001b[0m\u001b[1;33m\u001b[0m\u001b[1;33m\u001b[0m\u001b[0m\n\u001b[0m\u001b[0;32m     52\u001b[0m             \u001b[0mdW1\u001b[0m \u001b[1;33m=\u001b[0m \u001b[0mdz1\u001b[0m\u001b[1;33m.\u001b[0m\u001b[0mdot\u001b[0m\u001b[1;33m(\u001b[0m\u001b[0mself\u001b[0m\u001b[1;33m.\u001b[0m\u001b[0mX\u001b[0m\u001b[1;33m)\u001b[0m\u001b[1;33m\u001b[0m\u001b[1;33m\u001b[0m\u001b[0m\n\u001b[0;32m     53\u001b[0m             \u001b[0mdb1\u001b[0m \u001b[1;33m=\u001b[0m \u001b[0mdz1\u001b[0m\u001b[1;33m\u001b[0m\u001b[1;33m\u001b[0m\u001b[0m\n",
      "\u001b[1;31mValueError\u001b[0m: shapes (2,100) and (571,2) not aligned: 100 (dim 1) != 571 (dim 0)"
     ]
    }
   ],
   "source": [
    "clf.fit(X_train, y_train)"
   ]
  },
  {
   "cell_type": "code",
   "execution_count": 188,
   "metadata": {},
   "outputs": [
    {
     "data": {
      "text/plain": [
       "0.7482517482517482"
      ]
     },
     "execution_count": 188,
     "metadata": {},
     "output_type": "execute_result"
    }
   ],
   "source": [
    "from sklearn.neural_network import MLPClassifier\n",
    "\n",
    "clf2 = MLPClassifier(activation = 'logistic', solver = 'sgd', learning_rate_init = 0.033)\n",
    "clf2.fit(X_train, y_train)\n",
    "\n",
    "from sklearn.metrics import accuracy_score\n",
    "accuracy_score(y_test, clf2.predict(X_test))"
   ]
  },
  {
   "cell_type": "code",
   "execution_count": 189,
   "metadata": {},
   "outputs": [
    {
     "name": "stderr",
     "output_type": "stream",
     "text": [
      "C:\\ProgramData\\Anaconda3\\lib\\site-packages\\sklearn\\neural_network\\multilayer_perceptron.py:566: ConvergenceWarning: Stochastic Optimizer: Maximum iterations (200) reached and the optimization hasn't converged yet.\n",
      "  % self.max_iter, ConvergenceWarning)\n"
     ]
    },
    {
     "data": {
      "text/plain": [
       "0.7972027972027972"
      ]
     },
     "execution_count": 189,
     "metadata": {},
     "output_type": "execute_result"
    }
   ],
   "source": [
    "clf2 = MLPClassifier()\n",
    "clf2.fit(X_train, y_train)\n",
    "\n",
    "from sklearn.metrics import accuracy_score\n",
    "accuracy_score(y_test, clf2.predict(X_test))"
   ]
  },
  {
   "cell_type": "code",
   "execution_count": null,
   "metadata": {},
   "outputs": [],
   "source": []
  }
 ],
 "metadata": {
  "kernelspec": {
   "display_name": "Python 3",
   "language": "python",
   "name": "python3"
  },
  "language_info": {
   "codemirror_mode": {
    "name": "ipython",
    "version": 3
   },
   "file_extension": ".py",
   "mimetype": "text/x-python",
   "name": "python",
   "nbconvert_exporter": "python",
   "pygments_lexer": "ipython3",
   "version": "3.7.4"
  }
 },
 "nbformat": 4,
 "nbformat_minor": 2
}
